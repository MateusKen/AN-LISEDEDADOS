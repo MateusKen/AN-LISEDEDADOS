{
  "nbformat": 4,
  "nbformat_minor": 0,
  "metadata": {
    "colab": {
      "provenance": [],
      "collapsed_sections": []
    },
    "kernelspec": {
      "name": "python3",
      "display_name": "Python 3"
    },
    "language_info": {
      "name": "python"
    }
  },
  "cells": [
    {
      "cell_type": "markdown",
      "source": [
        "NOME: Erik Samuel Viana Hsu\n",
        "\n",
        "TIA: 32265921\n",
        "\n",
        "NOME: Mateus Kenzo Iochimoto\n",
        "\n",
        "TIA: 32216289\n",
        "\n",
        "NOME: Thiago Shihan Cardoso Toma\n",
        "\n",
        "TIA: 32210744\n",
        "\n",
        "NOME: Rodrigo Machado de Assis Oliveira de Lima\n",
        "\n",
        "TIA:32234678"
      ],
      "metadata": {
        "id": "Ms6nzExU-6Az"
      }
    },
    {
      "cell_type": "markdown",
      "source": [
        "1. (3 pontos). Crie um array NumPy com valores inteiros variando entre 10 e 49. Agora, inverta\n",
        "o array, usando um único comando NumPy (i.e., o 1o. elemento do array passa a ser o último\n",
        "e assim por diante)."
      ],
      "metadata": {
        "id": "qPmp6hSG--VO"
      }
    },
    {
      "cell_type": "code",
      "source": [
        "import numpy as np\n",
        "a = np.arange(10, 50)\n",
        "a_inverso = np.flip(a)\n",
        "\n",
        "print(a_inverso)"
      ],
      "metadata": {
        "colab": {
          "base_uri": "https://localhost:8080/"
        },
        "id": "gLgQV-Rj_ESS",
        "outputId": "4720732a-1b99-494a-97a4-c707814d4a8a"
      },
      "execution_count": null,
      "outputs": [
        {
          "output_type": "stream",
          "name": "stdout",
          "text": [
            "[49 48 47 46 45 44 43 42 41 40 39 38 37 36 35 34 33 32 31 30 29 28 27 26\n",
            " 25 24 23 22 21 20 19 18 17 16 15 14 13 12 11 10]\n"
          ]
        }
      ]
    },
    {
      "cell_type": "markdown",
      "source": [
        "2. (3 pontos) Considere dois arrays NumPy de mesma dimensão. Confira se eles säo iguais\n",
        "(usando só um comando)."
      ],
      "metadata": {
        "id": "HMgbXfWpC6ap"
      }
    },
    {
      "cell_type": "code",
      "source": [
        "import numpy as np\n",
        "\n",
        "# Arrays de exemplo:\n",
        "\n",
        "a = [1,2,3,4,5]\n",
        "b = [1,2,3,4,5]\n",
        "\n",
        "\n",
        "np.array_equal(a, b)"
      ],
      "metadata": {
        "colab": {
          "base_uri": "https://localhost:8080/"
        },
        "id": "fJ_zHKOXFUCh",
        "outputId": "a3d1e61a-a432-4bb4-b884-d7f7962401fb"
      },
      "execution_count": null,
      "outputs": [
        {
          "output_type": "execute_result",
          "data": {
            "text/plain": [
              "True"
            ]
          },
          "metadata": {},
          "execution_count": 1
        }
      ]
    },
    {
      "cell_type": "markdown",
      "source": [
        "3. (4 pontos) Execute o código em Python a seguir. Explique o resultado obtido.\n",
        "\n",
        "import numpy as np\n",
        "\n",
        "a = np.arange(3)\n",
        "\n",
        "b = np.arange(3)[:, np.newaxis]\n",
        "\n",
        "print(a)\n",
        "\n",
        "print(b)\n",
        "\n",
        "a + b"
      ],
      "metadata": {
        "id": "pmr4AlyxC-Oq"
      }
    },
    {
      "cell_type": "code",
      "source": [
        "import numpy as np\n",
        "\n",
        "a = np.arange(3)\n",
        "\n",
        "b = np.arange(3)[:, np.newaxis]\n",
        "\n",
        "print(a)\n",
        "\n",
        "print(b)\n",
        "\n",
        "a + b"
      ],
      "metadata": {
        "colab": {
          "base_uri": "https://localhost:8080/"
        },
        "id": "Rv9e6sqHbXn4",
        "outputId": "6ed03b43-a357-4108-8475-c87ae3baeeb1"
      },
      "execution_count": 6,
      "outputs": [
        {
          "output_type": "stream",
          "name": "stdout",
          "text": [
            "[0 1 2]\n",
            "[[0]\n",
            " [1]\n",
            " [2]]\n"
          ]
        },
        {
          "output_type": "execute_result",
          "data": {
            "text/plain": [
              "array([[0, 1, 2],\n",
              "       [1, 2, 3],\n",
              "       [2, 3, 4]])"
            ]
          },
          "metadata": {},
          "execution_count": 6
        }
      ]
    },
    {
      "cell_type": "markdown",
      "source": [
        "A variável a guarda um array com 3 elementos, b guarda um array na vertical, juntando a + b, obtemos uma matriz 3x3"
      ],
      "metadata": {
        "id": "QdQp4hg8bXQo"
      }
    }
  ]
}