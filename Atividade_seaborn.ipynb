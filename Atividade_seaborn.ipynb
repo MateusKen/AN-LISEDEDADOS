{
  "cells": [
    {
      "cell_type": "markdown",
      "metadata": {
        "id": "ilc73d369Zz0"
      },
      "source": [
        "NOME: Erik Samuel Viana Hsu\n",
        "\n",
        "TIA: 32265921\n",
        "\n",
        "NOME: Mateus Kenzo Iochimoto\n",
        "\n",
        "TIA: 32216289\n",
        "\n",
        "NOME: Thiago Shihan Cardoso Toma\n",
        "\n",
        "TIA: 32210744\n",
        "\n",
        "NOME: Rodrigo Machado de Assis Oliveira de Lima\n",
        "\n",
        "TIA:32234678"
      ]
    },
    {
      "cell_type": "markdown",
      "source": [
        "1) O dataset planets.csv do diretório de datasets do seaborn\n",
        "https://github.com/mwaskom/seaborn-data\n",
        "contém uma comnjunto de dados sobre exoplanetas e os métodos usados em sua descoberta.\n",
        "Um de seus atributos é o ano em que eles foram descobertos.\n",
        "Carregue o dataset usando o comando load_dataset do seaborn.\n",
        "Usando seaborn, crie um gráfico de série temporal com o formato de gáfico de barras,\n",
        "mostrando o ano em que eles foram descobertos. "
      ],
      "metadata": {
        "id": "SSTNCnzk1k2e"
      }
    },
    {
      "cell_type": "code",
      "execution_count": null,
      "metadata": {
        "colab": {
          "background_save": true,
          "base_uri": "https://localhost:8080/",
          "height": 608
        },
        "id": "NGv87LxUs8za",
        "outputId": "c5b14d77-afc2-427c-c766-41737097b330"
      },
      "outputs": [
        {
          "data": {
            "text/plain": [
              "[Text(0, 0, '1989'),\n",
              " Text(0, 0, '1998'),\n",
              " Text(0, 0, '2003'),\n",
              " Text(0, 0, '2008'),\n",
              " Text(0, 0, '2013')]"
            ]
          },
          "execution_count": 17,
          "metadata": {},
          "output_type": "execute_result"
        },
        {
          "data": {
            "image/png": "[encoded data removed]",
            "text/plain": [
              "<Figure size 842.4x595.44 with 1 Axes>"
            ]
          },
          "metadata": {},
          "output_type": "display_data"
        }
      ],
      "source": [
        "import seaborn as sns\n",
        "\n",
        "sns.set_theme()\n",
        "\n",
        "sns.set(rc={'figure.figsize':(11.7, 8.27)})\n",
        "\n",
        "planets = sns.load_dataset(\"planets\")\n",
        "count = planets['year'].value_counts()\n",
        "\n",
        "ax = sns.barplot(x = \"year\", y = \"number\", data = planets, capsize=.0)\n",
        "\n",
        "ax = sns.countplot(x = 'year', data = planets)\n",
        "\n",
        "\n",
        "\n",
        "ax.set(ylim = (0, 200))\n",
        "ax.set(xlim = (0, 23))\n",
        "\n",
        "ax.set_xticks(range(1,25,5))\n",
        "ax.set_xticklabels([1989,1998,2003,2008,2013])"
      ]
    }
  ],
  "metadata": {
    "colab": {
      "collapsed_sections": [],
      "provenance": []
    },
    "kernelspec": {
      "display_name": "Python 3",
      "name": "python3"
    },
    "language_info": {
      "name": "python"
    }
  },
  "nbformat": 4,
  "nbformat_minor": 0
}